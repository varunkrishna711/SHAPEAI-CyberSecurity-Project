{
  "nbformat": 4,
  "nbformat_minor": 0,
  "metadata": {
    "colab": {
      "name": "CyberSecurity.ipynb",
      "provenance": [],
      "collapsed_sections": []
    },
    "kernelspec": {
      "name": "python3",
      "display_name": "Python 3"
    },
    "language_info": {
      "name": "python"
    }
  },
  "cells": [
    {
      "cell_type": "code",
      "metadata": {
        "colab": {
          "base_uri": "https://localhost:8080/"
        },
        "id": "Nq12EdAd2UKe",
        "outputId": "64fe2ad2-8f2d-46a3-f166-d0e356ecc8cf"
      },
      "source": [
        "import requests\n",
        "from datetime import datetime\n",
        "\n",
        "api_key='f1f56c555d1d2c914137fcbdacfe4dc7'\n",
        "loc=input('Enter the city name: ')\n",
        "com_api_link='https://api.openweathermap.org/data/2.5/weather?q='+loc+'&appid='+api_key\n",
        "apil=requests.get(com_api_link)\n",
        "apidata=apil.json()\n",
        "\n",
        "temp=((apidata['main']['temp'])-273.15)\n",
        "weather=apidata['weather'][0]['description']\n",
        "hum=apidata['main']['humidity']\n",
        "wndspd=apidata['wind']['speed']\n",
        "date_time=datetime.now().strftime(\"%d %b %Y | %I:%M:%S %p\")\n",
        "\n",
        "with open('weather.txt','w') as f:\n",
        "  f.write(\"--------------------------------------------------\")\n",
        "  f.write(\"\\n\")\n",
        "  f.write(\"Weather status for the location: {} at {}\".format(loc.upper(),date_time))\n",
        "  f.write(\"\\n\")\n",
        "  f.write(\"Tempertaure: \"+ str(temp)+\"deg C\")\n",
        "  f.write(\"\\n\")  \n",
        "  f.write(\"Weather description: \"+ weather)\n",
        "  f.write(\"\\n\")\n",
        "  f.write(\"Humidity: \"+str(hum)+\"%\")\n",
        "  f.write(\"\\n\") \n",
        "  f.write(\"Wind Speed: \"+str(wndspd)+\"kmph\")\n",
        "  f.write(\"\\n\") \n",
        "  f.write(\"---------------------------------------------------\")\n",
        "\n",
        "  "
      ],
      "execution_count": 1,
      "outputs": [
        {
          "output_type": "stream",
          "text": [
            "Enter the city name: kochi\n"
          ],
          "name": "stdout"
        }
      ]
    }
  ]
}